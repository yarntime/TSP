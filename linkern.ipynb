{
 "cells": [
  {
   "cell_type": "code",
   "execution_count": 2,
   "metadata": {},
   "outputs": [],
   "source": [
    "%%bash -e\n",
    "if ! [[ -f ./linkern ]]; then\n",
    "  wget http://www.math.uwaterloo.ca/tsp/concorde/downloads/codes/src/co031219.tgz\n",
    "  echo 'c3650a59c8d57e0a00e81c1288b994a99c5aa03e5d96a314834c2d8f9505c724  co031219.tgz' | sha256sum -c\n",
    "  tar xf co031219.tgz\n",
    "  (cd concorde && CFLAGS='-O3 -march=native -mtune=native -fPIC' ./configure --build=x86_64)\n",
    "  (cd concorde/LINKERN && make -j && cp linkern ../../)\n",
    "  rm -rf concorde co031219.tgz\n",
    "fi"
   ]
  },
  {
   "cell_type": "code",
   "execution_count": 4,
   "metadata": {},
   "outputs": [],
   "source": [
    "from concorde.tsp import TSPSolver\n",
    "from matplotlib import collections  as mc\n",
    "import numpy as np\n",
    "import pandas as pd\n",
    "import time\n",
    "import pylab as pl"
   ]
  },
  {
   "cell_type": "code",
   "execution_count": 6,
   "metadata": {},
   "outputs": [],
   "source": [
    "cities = pd.read_csv('cities.csv', index_col=['CityId'])"
   ]
  },
  {
   "cell_type": "code",
   "execution_count": 7,
   "metadata": {},
   "outputs": [],
   "source": [
    "cities1k = cities * 1000"
   ]
  },
  {
   "cell_type": "code",
   "execution_count": 8,
   "metadata": {},
   "outputs": [],
   "source": [
    "def write_tsp(cities, filename, name='traveling-santa-2018-prime-paths'):\n",
    "    with open(filename, 'w') as f:\n",
    "        f.write('NAME : %s\\n' % name)\n",
    "        f.write('COMMENT : %s\\n' % name)\n",
    "        f.write('TYPE : TSP\\n')\n",
    "        f.write('DIMENSION : %d\\n' % len(cities))\n",
    "        f.write('EDGE_WEIGHT_TYPE : EUC_2D\\n')\n",
    "        f.write('NODE_COORD_SECTION\\n')\n",
    "        for row in cities.itertuples():\n",
    "            f.write('%d %.11f %.11f\\n' % (row.Index+1, row.X, row.Y))\n",
    "        f.write('EOF\\n')\n",
    "\n",
    "write_tsp(cities1k, 'cities1k.tsp')"
   ]
  },
  {
   "cell_type": "code",
   "execution_count": null,
   "metadata": {},
   "outputs": [],
   "source": [
    "%%bash -e\n",
    "time ./linkern -s 42 -S linkern.tour -R 1000000000 -t 18000 ./cities1k.tsp >linkern.log"
   ]
  },
  {
   "cell_type": "code",
   "execution_count": 10,
   "metadata": {},
   "outputs": [
    {
     "data": {
      "image/png": "[encoded data removed]",
      "text/plain": [
       "<matplotlib.figure.Figure at 0x7fbac2a658d0>"
      ]
     },
     "metadata": {},
     "output_type": "display_data"
    }
   ],
   "source": [
    "!sed -Ene 's/([0-9]+) Steps.*Best: ([0-9]+).*/\\1,\\2/p' linkern.log >linkern.csv\n",
    "pd.read_csv('linkern.csv', index_col=0, names=['TSP tour length']).plot();"
   ]
  },
  {
   "cell_type": "code",
   "execution_count": 21,
   "metadata": {},
   "outputs": [],
   "source": [
    "import sympy\n",
    "def read_tour(filename):\n",
    "    tour = open(filename).read().split()[1:]\n",
    "    tour = list(map(int, tour))\n",
    "    if tour[-1] == 0: tour.pop()\n",
    "    return tour\n",
    "\n",
    "def score_tour(tour):\n",
    "    df = cities.reindex(tour + [0]).reset_index()\n",
    "    primes = list(sympy.primerange(0, len(cities)))\n",
    "    df['prime'] = df.CityId.isin(primes).astype(int)\n",
    "    df['dist'] = np.hypot(df.X - df.X.shift(-1), df.Y - df.Y.shift(-1))\n",
    "    df['penalty'] = df['dist'][9::10] * (1 - df['prime'][9::10]) * 0.1\n",
    "    return df.dist.sum() + df.penalty.sum()\n",
    "\n",
    "def write_submission(tour, filename):\n",
    "    assert set(tour) == set(range(len(tour)))\n",
    "    pd.DataFrame({'Path': list(tour) + [0]}).to_csv(filename, index=False)"
   ]
  },
  {
   "cell_type": "code",
   "execution_count": 22,
   "metadata": {},
   "outputs": [],
   "source": [
    "tour = read_tour('linkern.tour')\n",
    "write_submission(tour, 'submission.csv')"
   ]
  },
  {
   "cell_type": "code",
   "execution_count": 25,
   "metadata": {},
   "outputs": [
    {
     "data": {
      "text/plain": [
       "1517361.2529791819"
      ]
     },
     "execution_count": 25,
     "metadata": {},
     "output_type": "execute_result"
    }
   ],
   "source": [
    "score_tour(tour)"
   ]
  },
  {
   "cell_type": "code",
   "execution_count": 39,
   "metadata": {},
   "outputs": [],
   "source": [
    "def flip(lst, k):\n",
    "    return lst[0:1] + lst[k+1:] + lst[1:k+1]"
   ]
  },
  {
   "cell_type": "code",
   "execution_count": 43,
   "metadata": {},
   "outputs": [
    {
     "name": "stdout",
     "output_type": "stream",
     "text": [
      "('Tour path (0-5):', [78934, 111804, 52086, 89712, 81072])\n",
      "('Flipped tour path (0-5):', [0, 48816, 40230, 75405, 153911])\n"
     ]
    }
   ],
   "source": [
    "print(\"Tour path (0-5):\",tour[0:5])\n",
    "tourflip = tour[::-1]\n",
    "print(\"Flipped tour path (0-5):\", tourflip[0:5])"
   ]
  },
  {
   "cell_type": "code",
   "execution_count": 40,
   "metadata": {},
   "outputs": [
    {
     "name": "stdout",
     "output_type": "stream",
     "text": [
      "('Score of original tour:', 1517332.415616737)\n",
      "('Score of flipped tour:', 1517356.0910889404)\n",
      "('Score of flipped tour:', 1517356.9139951372)\n",
      "('Score of flipped tour:', 1517413.2228083517)\n",
      "('Score of flipped tour:', 1517403.1202388373)\n",
      "('Score of flipped tour:', 1517403.8425916804)\n",
      "('Score of flipped tour:', 1517390.3233206801)\n",
      "('Score of flipped tour:', 1517426.1401942007)\n",
      "('Score of flipped tour:', 1517471.5298787779)\n",
      "('Score of flipped tour:', 1517440.7268941959)\n",
      "('Score of flipped tour:', 1517424.4124984485)\n",
      "('Score of flipped tour:', 1517426.253180478)\n",
      "('Score of flipped tour:', 1517421.8727339443)\n",
      "('Score of flipped tour:', 1517460.3421580733)\n",
      "('Score of flipped tour:', 1517434.6743891994)\n",
      "('Score of flipped tour:', 1517418.130972293)\n",
      "('Score of flipped tour:', 1517393.934870807)\n",
      "('Score of flipped tour:', 1517420.2643460205)\n",
      "('Score of flipped tour:', 1517447.2864386647)\n",
      "('Score of flipped tour:', 1517407.5226760462)\n",
      "('Score of flipped tour:', 1517394.2942589528)\n",
      "('Score of flipped tour:', 1517394.7993746104)\n",
      "('Score of flipped tour:', 1517379.850304974)\n",
      "('Score of flipped tour:', 1517414.5208543059)\n",
      "('Score of flipped tour:', 1517387.1811606274)\n",
      "('Score of flipped tour:', 1517381.9075844737)\n",
      "('Score of flipped tour:', 1517369.7748633618)\n",
      "('Score of flipped tour:', 1517413.2023676371)\n",
      "('Score of flipped tour:', 1517456.4925552462)\n",
      "('Score of flipped tour:', 1517417.9342675023)\n",
      "('Score of flipped tour:', 1517390.2807072725)\n",
      "('Score of flipped tour:', 1517375.7881616235)\n",
      "('Score of flipped tour:', 1517354.4794941714)\n",
      "('Score of flipped tour:', 1517391.7376516568)\n",
      "('Score of flipped tour:', 1517373.4370702687)\n",
      "('Score of flipped tour:', 1517382.8213495801)\n",
      "('Score of flipped tour:', 1517374.1632063612)\n",
      "('Score of flipped tour:', 1517415.894082329)\n",
      "('Score of flipped tour:', 1517467.3961351814)\n",
      "('Score of flipped tour:', 1517445.8441427345)\n",
      "('Score of flipped tour:', 1517435.2475747936)\n",
      "('Score of flipped tour:', 1517439.9246245627)\n",
      "('Score of flipped tour:', 1517447.1559378831)\n",
      "('Score of flipped tour:', 1517499.0819099913)\n",
      "('Score of flipped tour:', 1517493.0927003776)\n",
      "('Score of flipped tour:', 1517502.3384920147)\n",
      "('Score of flipped tour:', 1517485.5076681615)\n",
      "('Score of flipped tour:', 1517502.5371459988)\n",
      "('Score of flipped tour:', 1517526.8949108373)\n",
      "('Score of flipped tour:', 1517477.4368143654)\n",
      "('Score of flipped tour:', 1517438.1595332872)\n",
      "('Score of flipped tour:', 1517428.0130642096)\n",
      "('Score of flipped tour:', 1517409.3595959663)\n",
      "('Score of flipped tour:', 1517431.0013628749)\n",
      "('Score of flipped tour:', 1517393.0333302217)\n",
      "('Score of flipped tour:', 1517372.2586601183)\n",
      "('Score of flipped tour:', 1517349.1398652336)\n",
      "('Score of flipped tour:', 1517387.9553650559)\n",
      "('Score of flipped tour:', 1517442.3627667939)\n",
      "('Score of flipped tour:', 1517424.9399056523)\n",
      "('Score of flipped tour:', 1517423.5400056166)\n",
      "('Score of flipped tour:', 1517439.107014118)\n",
      "('Score of flipped tour:', 1517455.0654943897)\n",
      "('Score of flipped tour:', 1517519.386947802)\n",
      "('Score of flipped tour:', 1517498.676528994)\n",
      "('Score of flipped tour:', 1517498.4435672665)\n",
      "('Score of flipped tour:', 1517492.0689992518)\n",
      "('Score of flipped tour:', 1517525.8929229486)\n",
      "('Score of flipped tour:', 1517580.3247003811)\n",
      "('Score of flipped tour:', 1517556.868937073)\n",
      "('Score of flipped tour:', 1517537.0343341671)\n",
      "('Score of flipped tour:', 1517524.3500662614)\n",
      "('Score of flipped tour:', 1517524.9141456622)\n",
      "('Score of flipped tour:', 1517585.1937728256)\n",
      "('Score of flipped tour:', 1517573.1172919387)\n",
      "('Score of flipped tour:', 1517573.151211919)\n",
      "('Score of flipped tour:', 1517550.4248782436)\n",
      "('Score of flipped tour:', 1517581.9113448008)\n",
      "('Score of flipped tour:', 1517626.8242998021)\n",
      "('Score of flipped tour:', 1517599.5859399824)\n",
      "('Score of flipped tour:', 1517586.2745984038)\n",
      "('Score of flipped tour:', 1517579.5737715021)\n",
      "('Score of flipped tour:', 1517570.7709022472)\n",
      "('Score of flipped tour:', 1517621.9204671208)\n",
      "('Score of flipped tour:', 1517610.5224881524)\n",
      "('Score of flipped tour:', 1517608.9746056185)\n",
      "('Score of flipped tour:', 1517594.5004874978)\n",
      "('Score of flipped tour:', 1517625.8114939115)\n",
      "('Score of flipped tour:', 1517667.3593493842)\n",
      "('Score of flipped tour:', 1517638.9068630573)\n",
      "('Score of flipped tour:', 1517618.783138324)\n",
      "('Score of flipped tour:', 1517603.4920099739)\n",
      "('Score of flipped tour:', 1517576.0349226668)\n",
      "('Score of flipped tour:', 1517627.2630021616)\n",
      "('Score of flipped tour:', 1517631.1658613831)\n",
      "('Score of flipped tour:', 1517641.401856899)\n",
      "('Score of flipped tour:', 1517611.6196710353)\n",
      "('Score of flipped tour:', 1517620.6900758257)\n",
      "('Score of flipped tour:', 1517642.3172794664)\n",
      "('Score of flipped tour:', 1517612.9561278727)\n",
      "('Score of flipped tour:', 1517606.5370181862)\n"
     ]
    }
   ],
   "source": [
    "originScore = score_tour(tour)\n",
    "print(\"Score of original tour:\", originScore)\n",
    "tourflip = tour\n",
    "for n in range(1,101):\n",
    "    # And the flipped tour looks like:\n",
    "    tourflip = flip(tourflip, 1)\n",
    "    # The scores of our tours are:\n",
    "    flippedScore = score_tour(tourflip)\n",
    "    print(\"Score of flipped tour:\", flippedScore)\n",
    "\n",
    "    # If the flipped tour is quicker, change our tour:\n",
    "    if flippedScore < originScore:\n",
    "        print(\"The total improvement was:\", abs(flippedScore - originScore))\n",
    "        originScore = flippedScore\n",
    "        tour = tourflip \n",
    "        print(\"The better of the original/flipped tour is:\", tour[0:5])"
   ]
  },
  {
   "cell_type": "code",
   "execution_count": 41,
   "metadata": {},
   "outputs": [
    {
     "data": {
      "text/plain": [
       "1517332.415616737"
      ]
     },
     "execution_count": 41,
     "metadata": {},
     "output_type": "execute_result"
    }
   ],
   "source": [
    "score_tour(tour)"
   ]
  },
  {
   "cell_type": "code",
   "execution_count": 32,
   "metadata": {},
   "outputs": [],
   "source": [
    "write_submission(tour, 'submission.csv')"
   ]
  },
  {
   "cell_type": "code",
   "execution_count": null,
   "metadata": {},
   "outputs": [],
   "source": []
  }
 ],
 "metadata": {
  "kernelspec": {
   "display_name": "Python 2",
   "language": "python",
   "name": "python2"
  },
  "language_info": {
   "codemirror_mode": {
    "name": "ipython",
    "version": 2
   },
   "file_extension": ".py",
   "mimetype": "text/x-python",
   "name": "python",
   "nbconvert_exporter": "python",
   "pygments_lexer": "ipython2",
   "version": "2.7.5"
  }
 },
 "nbformat": 4,
 "nbformat_minor": 2
}
