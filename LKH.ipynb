{
 "cells": [
  {
   "cell_type": "code",
   "execution_count": null,
   "metadata": {},
   "outputs": [],
   "source": [
    "import os\n",
    "import pandas as pd\n",
    "cities = pd.read_csv('cities.csv', index_col=['CityId'], nrows=None)\n",
    "cities = cities * 1000 \n",
    "cities.head()"
   ]
  },
  {
   "cell_type": "code",
   "execution_count": null,
   "metadata": {},
   "outputs": [],
   "source": [
    "%%bash -e\n",
    "wget http://akira.ruc.dk/~keld/research/LKH/LKH-2.0.9.tgz\n",
    "tar xvfz LKH-2.0.9.tgz\n",
    "cd LKH-2.0.9\n",
    "make"
   ]
  },
  {
   "cell_type": "code",
   "execution_count": 7,
   "metadata": {},
   "outputs": [],
   "source": [
    "def write_tsp(nodes, filename, name='traveling-santa-2018-prime-paths'):\n",
    "    # From https://www.kaggle.com/blacksix/concorde-for-5-hours.\n",
    "    with open(filename, 'w') as f:\n",
    "        f.write('NAME : %s\\n' % name)\n",
    "        f.write('COMMENT : %s\\n' % name)\n",
    "        f.write('TYPE : TSP\\n')\n",
    "        f.write('DIMENSION : %d\\n' % len(cities))\n",
    "        f.write('EDGE_WEIGHT_TYPE : EUC_2D\\n')\n",
    "        f.write('NODE_COORD_SECTION\\n')\n",
    "        for row in cities.itertuples():\n",
    "            f.write('%d %.11f %.11f\\n' % (row.Index + 1, row.X, row.Y))\n",
    "        f.write('EOF\\n')\n",
    "\n",
    "write_tsp(cities, 'cities.tsp')"
   ]
  },
  {
   "cell_type": "code",
   "execution_count": 20,
   "metadata": {},
   "outputs": [
    {
     "name": "stdout",
     "output_type": "stream",
     "text": [
      "('Parameters saved as', 'LKH-2.0.9/params.par')\n"
     ]
    }
   ],
   "source": [
    "def write_parameters(parameters, filename='LKH-2.0.9/params.par'):\n",
    "    with open(filename, 'w') as f:\n",
    "        for param, value in parameters:\n",
    "            f.write(\"{} = {}\\n\".format(param, value))\n",
    "    print(\"Parameters saved as\", filename)\n",
    "\n",
    "parameters = [\n",
    "    (\"PROBLEM_FILE\", \"cities.tsp\"),\n",
    "    (\"OUTPUT_TOUR_FILE\", \"tsp_solution.csv\"),\n",
    "    (\"SEED\", 2018),\n",
    "    ('CANDIDATE_SET_TYPE', 'POPMUSIC'), #'NEAREST-NEIGHBOR', 'ALPHA'),\n",
    "    ('INITIAL_PERIOD', 10000),\n",
    "    ('MAX_TRIALS', 1000),\n",
    "]\n",
    "write_parameters(parameters)"
   ]
  },
  {
   "cell_type": "code",
   "execution_count": 21,
   "metadata": {},
   "outputs": [
    {
     "name": "stdout",
     "output_type": "stream",
     "text": [
      "PARAMETER_FILE = ./LKH-2.0.9/params.par\n",
      "Reading PROBLEM_FILE: \"cities.tsp\" ... done\n",
      "ASCENT_CANDIDATES = 50\n",
      "BACKBONE_TRIALS = 0\n",
      "BACKTRACKING = NO\n",
      "# CANDIDATE_FILE =\n",
      "CANDIDATE_SET_TYPE = POPMUSIC\n",
      "# EDGE_FILE =\n",
      "EXCESS = 5.0564e-06\n",
      "EXTRA_CANDIDATES = 0 \n",
      "EXTRA_CANDIDATE_SET_TYPE = QUADRANT\n",
      "GAIN23 = YES\n",
      "GAIN_CRITERION = YES\n",
      "INITIAL_PERIOD = 10000\n",
      "INITIAL_STEP_SIZE = 1\n",
      "INITIAL_TOUR_ALGORITHM = WALK\n",
      "# INITIAL_TOUR_FILE = \n",
      "INITIAL_TOUR_FRACTION = 1.000\n",
      "# INPUT_TOUR_FILE = \n",
      "KICK_TYPE = 0\n",
      "KICKS = 1\n",
      "# MAX_BREADTH =\n",
      "MAX_CANDIDATES = 5 \n",
      "MAX_SWAPS = 197769\n",
      "MAX_TRIALS = 1000\n",
      "# MERGE_TOUR_FILE =\n",
      "MOVE_TYPE = 5\n",
      "# NONSEQUENTIAL_MOVE_TYPE = 5\n",
      "# OPTIMUM =\n",
      "OUTPUT_TOUR_FILE = tsp_solution.csv\n",
      "PATCHING_A = 1 \n",
      "PATCHING_C = 0 \n",
      "# PI_FILE = \n",
      "POPMUSIC_INITIAL_TOUR = NO\n",
      "POPMUSIC_MAX_NEIGHBORS = 5\n",
      "POPMUSIC_SAMPLE_SIZE = 10\n",
      "POPMUSIC_SOLUTIONS = 50\n",
      "POPMUSIC_TRIALS = 1\n",
      "# POPULATION_SIZE = 0\n",
      "PRECISION = 100\n",
      "PROBLEM_FILE = cities.tsp\n",
      "RECOMBINATION = IPT\n",
      "RESTRICTED_SEARCH = YES\n",
      "RUNS = 10\n",
      "SEED = 2018\n",
      "STOP_AT_OPTIMUM = YES\n",
      "SUBGRADIENT = YES\n",
      "# SUBPROBLEM_SIZE =\n",
      "# SUBPROBLEM_TOUR_FILE = \n",
      "SUBSEQUENT_MOVE_TYPE = 5\n",
      "SUBSEQUENT_PATCHING = YES\n",
      "# TIME_LIMIT =\n",
      "# TOUR_FILE = \n",
      "TRACE_LEVEL = 1\n",
      "\n"
     ]
    }
   ],
   "source": [
    "%%bash -e\n",
    "timeout 100s ./LKH-2.0.9/LKH ./LKH-2.0.9/params.par"
   ]
  },
  {
   "cell_type": "code",
   "execution_count": 17,
   "metadata": {},
   "outputs": [
    {
     "ename": "IOError",
     "evalue": "[Errno 2] No such file or directory: 'tsp_solution.csv'",
     "output_type": "error",
     "traceback": [
      "\u001b[0;31m---------------------------------------------------------------------------\u001b[0m",
      "\u001b[0;31mIOError\u001b[0m                                   Traceback (most recent call last)",
      "\u001b[0;32m<ipython-input-17-f9a29d701a17>\u001b[0m in \u001b[0;36m<module>\u001b[0;34m()\u001b[0m\n\u001b[1;32m      9\u001b[0m     \u001b[0;32mreturn\u001b[0m \u001b[0mtour\u001b[0m\u001b[0;34m[\u001b[0m\u001b[0;34m:\u001b[0m\u001b[0;34m-\u001b[0m\u001b[0;36m1\u001b[0m\u001b[0;34m]\u001b[0m\u001b[0;34m\u001b[0m\u001b[0m\n\u001b[1;32m     10\u001b[0m \u001b[0;34m\u001b[0m\u001b[0m\n\u001b[0;32m---> 11\u001b[0;31m \u001b[0mtour\u001b[0m \u001b[0;34m=\u001b[0m \u001b[0mread_tour\u001b[0m\u001b[0;34m(\u001b[0m\u001b[0;34m'tsp_solution.csv'\u001b[0m\u001b[0;34m)\u001b[0m\u001b[0;34m\u001b[0m\u001b[0m\n\u001b[0m\u001b[1;32m     12\u001b[0m \u001b[0;32mprint\u001b[0m\u001b[0;34m(\u001b[0m\u001b[0;34m\"Tour length\"\u001b[0m\u001b[0;34m,\u001b[0m \u001b[0mlen\u001b[0m\u001b[0;34m(\u001b[0m\u001b[0mtour\u001b[0m\u001b[0;34m)\u001b[0m\u001b[0;34m)\u001b[0m\u001b[0;34m\u001b[0m\u001b[0m\n",
      "\u001b[0;32m<ipython-input-17-f9a29d701a17>\u001b[0m in \u001b[0;36mread_tour\u001b[0;34m(filename)\u001b[0m\n\u001b[1;32m      1\u001b[0m \u001b[0;32mdef\u001b[0m \u001b[0mread_tour\u001b[0m\u001b[0;34m(\u001b[0m\u001b[0mfilename\u001b[0m\u001b[0;34m)\u001b[0m\u001b[0;34m:\u001b[0m\u001b[0;34m\u001b[0m\u001b[0m\n\u001b[1;32m      2\u001b[0m     \u001b[0mtour\u001b[0m \u001b[0;34m=\u001b[0m \u001b[0;34m[\u001b[0m\u001b[0;34m]\u001b[0m\u001b[0;34m\u001b[0m\u001b[0m\n\u001b[0;32m----> 3\u001b[0;31m     \u001b[0;32mfor\u001b[0m \u001b[0mline\u001b[0m \u001b[0;32min\u001b[0m \u001b[0mopen\u001b[0m\u001b[0;34m(\u001b[0m\u001b[0mfilename\u001b[0m\u001b[0;34m)\u001b[0m\u001b[0;34m.\u001b[0m\u001b[0mreadlines\u001b[0m\u001b[0;34m(\u001b[0m\u001b[0;34m)\u001b[0m\u001b[0;34m:\u001b[0m\u001b[0;34m\u001b[0m\u001b[0m\n\u001b[0m\u001b[1;32m      4\u001b[0m         \u001b[0mline\u001b[0m \u001b[0;34m=\u001b[0m \u001b[0mline\u001b[0m\u001b[0;34m.\u001b[0m\u001b[0mreplace\u001b[0m\u001b[0;34m(\u001b[0m\u001b[0;34m'\\n'\u001b[0m\u001b[0;34m,\u001b[0m \u001b[0;34m''\u001b[0m\u001b[0;34m)\u001b[0m\u001b[0;34m\u001b[0m\u001b[0m\n\u001b[1;32m      5\u001b[0m         \u001b[0;32mtry\u001b[0m\u001b[0;34m:\u001b[0m\u001b[0;34m\u001b[0m\u001b[0m\n",
      "\u001b[0;31mIOError\u001b[0m: [Errno 2] No such file or directory: 'tsp_solution.csv'"
     ]
    }
   ],
   "source": [
    "def read_tour(filename):\n",
    "    tour = []\n",
    "    for line in open(filename).readlines():\n",
    "        line = line.replace('\\n', '')\n",
    "        try:\n",
    "            tour.append(int(line) - 1)\n",
    "        except ValueError as e:\n",
    "            pass  # skip if not a city id (int)\n",
    "    return tour[:-1]\n",
    "\n",
    "tour = read_tour('tsp_solution.csv')\n",
    "print(\"Tour length\", len(tour))"
   ]
  },
  {
   "cell_type": "code",
   "execution_count": null,
   "metadata": {},
   "outputs": [],
   "source": []
  }
 ],
 "metadata": {
  "kernelspec": {
   "display_name": "Python 2",
   "language": "python",
   "name": "python2"
  },
  "language_info": {
   "codemirror_mode": {
    "name": "ipython",
    "version": 2
   },
   "file_extension": ".py",
   "mimetype": "text/x-python",
   "name": "python",
   "nbconvert_exporter": "python",
   "pygments_lexer": "ipython2",
   "version": "2.7.5"
  }
 },
 "nbformat": 4,
 "nbformat_minor": 2
}
